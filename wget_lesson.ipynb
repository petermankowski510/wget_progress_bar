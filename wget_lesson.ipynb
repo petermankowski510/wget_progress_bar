{
 "cells": [
  {
   "cell_type": "code",
   "execution_count": 2,
   "metadata": {},
   "outputs": [
    {
     "name": "stdout",
     "output_type": "stream",
     "text": [
      "Downloading: 100% [-1 / -1] bytes\n",
      "Downloading: 100% [-1 / -1] bytes\n",
      "Downloading: 100% [-1 / -1] bytes\n",
      "Downloading: 100% [-1 / -1] bytes\n",
      "Downloading: 100% [-1 / -1] bytes\n",
      "Downloading: 100% [-1 / -1] bytes\n",
      "Downloading: 100% [-1 / -1] bytes\n",
      "Downloading: 100% [-1 / -1] bytes\n",
      "Downloading: 100% [-1 / -1] bytes\n",
      "Downloading: 100% [-1 / -1] bytes\n",
      "Downloading: 100% [-1 / -1] bytes\n",
      "Downloading: 100% [-1 / -1] bytes\n",
      "Downloading: 100% [-1 / -1] bytes\n",
      "Downloading: 100% [-1 / -1] bytes\n",
      "Downloading: 100% [-1 / -1] bytes\n",
      "Downloading: 100% [-1 / -1] bytes\n",
      "Downloading: 100% [-1 / -1] bytes\n",
      "Downloading: 100% [-1 / -1] bytes\n",
      "Downloading: 100% [-1 / -1] bytes\n",
      "Downloading: 100% [-1 / -1] bytes\n",
      "Downloading: 100% [-1 / -1] bytes\n"
     ]
    },
    {
     "data": {
      "text/plain": [
       "'sample-large-zip-file.zip'"
      ]
     },
     "execution_count": 2,
     "metadata": {},
     "output_type": "execute_result"
    }
   ],
   "source": [
    "import wget\n",
    "from zipfile import ZipFile\n",
    "\n",
    "#Basic wget progress bar\n",
    "def bar_custom(current, total, width=80):\n",
    "    print(\"Downloading: %d%% [%d / %d] bytes\" % (current / total * 100, current, total))\n",
    "    \n",
    "wget.download('https://github.com/petermankowski510/ZipFile_Example/blob/main/sample-large-zip-file.zip', bar=bar_custom)"
   ]
  },
  {
   "cell_type": "code",
   "execution_count": 3,
   "metadata": {},
   "outputs": [],
   "source": [
    "# specifying the zip file name \n",
    "file_name = \"US.zip\""
   ]
  },
  {
   "cell_type": "code",
   "execution_count": 4,
   "metadata": {},
   "outputs": [
    {
     "name": "stdout",
     "output_type": "stream",
     "text": [
      "File Name                                             Modified             Size\n",
      "readme.txt                                     2020-07-15 03:48:32         2734\n",
      "US.txt                                         2020-07-15 03:48:32      2663242\n",
      "Extracting all the files now...\n",
      "Done!\n"
     ]
    }
   ],
   "source": [
    "# opening the zip file in READ mode \n",
    "with ZipFile(file_name, 'r') as zip: \n",
    "    # printing all the contents of the zip file \n",
    "    zip.printdir() \n",
    "  \n",
    "    # extracting all the files \n",
    "    print('Extracting all the files now...') \n",
    "    zip.extractall() \n",
    "    print('Done!') "
   ]
  },
  {
   "cell_type": "code",
   "execution_count": null,
   "metadata": {},
   "outputs": [],
   "source": []
  }
 ],
 "metadata": {
  "kernelspec": {
   "display_name": "Python 3",
   "language": "python",
   "name": "python3"
  },
  "language_info": {
   "codemirror_mode": {
    "name": "ipython",
    "version": 3
   },
   "file_extension": ".py",
   "mimetype": "text/x-python",
   "name": "python",
   "nbconvert_exporter": "python",
   "pygments_lexer": "ipython3",
   "version": "3.7.4"
  }
 },
 "nbformat": 4,
 "nbformat_minor": 4
}
